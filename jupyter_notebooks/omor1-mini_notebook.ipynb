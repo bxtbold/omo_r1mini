{
 "cells": [
  {
   "cell_type": "markdown",
   "metadata": {},
   "source": [
    "# Navigation"
   ]
  },
  {
   "cell_type": "code",
   "execution_count": 1,
   "metadata": {},
   "outputs": [],
   "source": [
    "import rospy\n",
    "import tf\n",
    "import math\n",
    "import time\n",
    "import actionlib\n",
    "import numpy as np\n",
    "from math import radians, degrees\n",
    "\n",
    "\n",
    "from actionlib_msgs.msg import *\n",
    "from std_msgs.msg import Float32, Int32\n",
    "from darknet_ros_msgs.msg import BoundingBoxes\n",
    "from move_base_msgs.msg import MoveBaseAction, MoveBaseGoal\n",
    "from geometry_msgs.msg import PoseWithCovarianceStamped, PoseStamped, Quaternion, Point, Twist\n",
    "# Initializing a neavigation node\n",
    "rospy.init_node('map_navi',anonymous = False)\n",
    "# move_base action as 'ac'\n",
    "ac = actionlib.SimpleActionClient('move_base', MoveBaseAction)\n",
    "goal = MoveBaseGoal()\n",
    "goal.target_pose.header.frame_id = 'map'\n",
    "goal.target_pose.header.stamp = rospy.Time.now()\n",
    "\n",
    "current_pose = PoseWithCovarianceStamped()\n",
    "processing = False   \n",
    "\n",
    "# callback function for navigation\n",
    "def callback(msg):\n",
    "    global processing, current_pose\n",
    "    if not processing:\n",
    "        processing = True\n",
    "        current_pose = msg.pose.pose\n",
    "        \n",
    "# subscribing topic '/amcl_pose'\n",
    "rospy.Subscriber('/amcl_pose', PoseWithCovarianceStamped, callback)\n",
    "\n",
    "\n",
    "# a function that converts from Quaternion to Euler\n",
    "convert_to_nparray = lambda o: np.array([o.x, o.y, o.z, o.w])\n",
    "def convert_to_euler(pose):\n",
    "    tmp = convert_to_nparray(pose.orientation)\n",
    "    tmp = tf.transformations.euler_from_quaternion(tmp)\n",
    "    return tmp\n",
    "\n",
    "# a function that converts from Euler to Quaternion\n",
    "convert_to_rad = lambda o: np.array(o)*math.pi/180.\n",
    "def convert_to_quaternion(euler):\n",
    "    p, q, r = convert_to_rad(euler)\n",
    "    tmp = tf.transformations.quaternion_from_euler(p, q, r)\n",
    "    return Quaternion(*tmp)\n",
    "\n",
    "\n",
    "# functions that starts the navigation task with given coordinates\n",
    "def goal_pose(goal_list):\n",
    "    global goal\n",
    "    goal.target_pose.pose.position.x = goal_list[0]\n",
    "    goal.target_pose.pose.position.y = goal_list[1]\n",
    "    goal.target_pose.pose.orientation = convert_to_quaternion([0,0,goal_list[2]])\n",
    "    goal.target_pose.header.stamp = rospy.Time.now()\n",
    "    ac.send_goal(goal)\n",
    "    #ac.wait_for_result()\n",
    "\n",
    "def goal_orientation(angle):\n",
    "    global goal\n",
    "    goal.target_pose.pose.orientation = convert_to_quaternion([0,0,angle])\n",
    "    goal.target_pose.header.stamp = rospy.Time.now()\n",
    "    ac.send_goal(goal)\n",
    "    ac.wait_for_result()"
   ]
  },
  {
   "cell_type": "code",
   "execution_count": null,
   "metadata": {},
   "outputs": [],
   "source": [
    "goal_list = [[0.85, -0.9, -90],[1.94, 0.2, 90]]\n",
    "trigger = 0\n",
    "logic = False\n",
    "\n",
    "for current_goal in goal_list:\n",
    "    goal_pose(current_goal)\n",
    "    while not ac.wait_for_result():\n",
    "        pass\n",
    "        #logic = ac.wait_for_result()\n",
    "        #processing_yolo = False\n",
    "        #if (person_check()  == 'close') and (trigger == 0):\n",
    "            #trigger += 1\n",
    "            #ac.cancel_goal()\n",
    "            #time.sleep(5)\n",
    "            #goal_pose(current_goal)\n",
    "    goal_orientation(90)"
   ]
  },
  {
   "cell_type": "markdown",
   "metadata": {},
   "source": [
    "# YOLO"
   ]
  },
  {
   "cell_type": "code",
   "execution_count": null,
   "metadata": {},
   "outputs": [],
   "source": [
    "processing_yolo = False\n",
    "detection_result = []\n",
    "\n",
    "# a function that gets data => detection_result\n",
    "def callback_yolo(msg):\n",
    "    global processing_yolo, detection_result\n",
    "    if not processing_yolo:\n",
    "        processing_yolo = True\n",
    "        if len(msg.bounding_boxes) > 0:\n",
    "            detection_result = msg.bounding_boxes\n",
    "        else:\n",
    "            detection_result = []\n",
    "    \n",
    "# subscribing topic '/darknet_ros/bounding_boxes'\n",
    "sub_yolo = rospy.Subscriber('/darknet_ros/bounding_boxes', BoundingBoxes, callback_yolo)\n",
    "# initializing a node\n",
    "#rospy.init_node('gen_command', anonymous = False)"
   ]
  },
  {
   "cell_type": "code",
   "execution_count": null,
   "metadata": {},
   "outputs": [],
   "source": [
    "# bottle - 39 , vase - 75\n",
    "def person_check():\n",
    "    global detection_result\n",
    "    for each in detection_result:\n",
    "        if (each.id == 39) or (each.id == 75):   # 0 for person\n",
    "            size = (each.xmax - each.xmin) * (each.ymax - each.ymin)\n",
    "            if size > 20000:\n",
    "                return 'close'  # close\n",
    "            else:\n",
    "                return 'not close'  # far"
   ]
  },
  {
   "cell_type": "markdown",
   "metadata": {},
   "source": [
    "### Main"
   ]
  },
  {
   "cell_type": "markdown",
   "metadata": {},
   "source": [
    "### other functions"
   ]
  },
  {
   "cell_type": "code",
   "execution_count": null,
   "metadata": {},
   "outputs": [],
   "source": [
    "current_status = GoalStatusArray()\n",
    "processing_status = False\n",
    "def callback_status(msg):\n",
    "    global processing_status, current_status\n",
    "    if not processing_status:\n",
    "        processing_status = True\n",
    "        current_status = msg\n",
    "\n",
    "processing_status = False\n",
    "rospy.Subscriber('/move_base/status', GoalStatusArray, callback_status)"
   ]
  },
  {
   "cell_type": "code",
   "execution_count": null,
   "metadata": {},
   "outputs": [],
   "source": [
    "current_goal = []\n",
    "processing_goal = True\n",
    "def callback_goal(msg):\n",
    "    global processing_goal, current_goal\n",
    "    if not processing_goal:\n",
    "        processing_goal = True\n",
    "        current_goal = [msg.pose.position.x, msg.pose.position.y]\n",
    "        #print msg.pose #current_goal\n",
    "            \n",
    "# subscribing topic '/darknet_ros/bounding_boxes'\n",
    "sub_goal = rospy.Subscriber('/move_base/current_goal', PoseStamped, callback_goal)"
   ]
  },
  {
   "cell_type": "code",
   "execution_count": null,
   "metadata": {},
   "outputs": [],
   "source": [
    "# a function that pauses for 5 seconds\n",
    "def pause():\n",
    "    global pub, speed\n",
    "    speed.linear.x = 0.0\n",
    "    current_time = time.time()\n",
    "    while True:\n",
    "        pub.publish(speed)\n",
    "        if time.time() - current_time > 5:\n",
    "            break\n",
    "    speed.linear.x = 0.01"
   ]
  },
  {
   "cell_type": "code",
   "execution_count": null,
   "metadata": {},
   "outputs": [],
   "source": [
    "while True:\n",
    "    processing_yolo = False\n",
    "    size = person_pixel_size()\n",
    "    if check_size(size) == 1:\n",
    "        stop_function()\n",
    "        break\n",
    "    time.sleep(1)\n",
    "\n",
    "print '==============DONE=============='"
   ]
  }
 ],
 "metadata": {
  "kernelspec": {
   "display_name": "Python 2",
   "language": "python",
   "name": "python2"
  },
  "language_info": {
   "codemirror_mode": {
    "name": "ipython",
    "version": 2
   },
   "file_extension": ".py",
   "mimetype": "text/x-python",
   "name": "python",
   "nbconvert_exporter": "python",
   "pygments_lexer": "ipython2",
   "version": "2.7.17"
  }
 },
 "nbformat": 4,
 "nbformat_minor": 2
}
