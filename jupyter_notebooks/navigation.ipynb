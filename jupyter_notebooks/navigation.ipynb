{
 "cells": [
  {
   "cell_type": "code",
   "execution_count": 9,
   "metadata": {},
   "outputs": [],
   "source": [
    "import rospy\n",
    "import actionlib\n",
    "from move_base_msgs.msg import MoveBaseAction, MoveBaseGoal\n",
    "from math import radians, degrees\n",
    "from actionlib_msgs.msg import *\n",
    "from geometry_msgs.msg import Point\n",
    "\n",
    "rospy.init_node('map_navi',anonymous = False)\n",
    "ac = actionlib.SimpleActionClient('move_base', MoveBaseAction)\n",
    "\n",
    "goal = MoveBaseGoal()\n",
    "goal.target_pose.header.frame_id = 'map'\n",
    "goal.target_pose.header.stamp = rospy.Time.now()"
   ]
  },
  {
   "cell_type": "code",
   "execution_count": 10,
   "metadata": {},
   "outputs": [],
   "source": [
    "from geometry_msgs.msg import PoseWithCovarianceStamped, PoseStamped\n",
    "\n",
    "current_pose = PoseWithCovarianceStamped()\n",
    "processing = False\n",
    "\n",
    "def callback(msg):\n",
    "    global processing, current_pose\n",
    "    if not processing:\n",
    "        processing = True\n",
    "        current_pose = msg.pose.pose"
   ]
  },
  {
   "cell_type": "code",
   "execution_count": 11,
   "metadata": {},
   "outputs": [
    {
     "data": {
      "text/plain": [
       "<rospy.topics.Subscriber at 0x7fb87e6afe90>"
      ]
     },
     "execution_count": 11,
     "metadata": {},
     "output_type": "execute_result"
    }
   ],
   "source": [
    "processing = False\n",
    "rospy.Subscriber('/amcl_pose', PoseWithCovarianceStamped, callback)"
   ]
  },
  {
   "cell_type": "code",
   "execution_count": 12,
   "metadata": {},
   "outputs": [
    {
     "data": {
      "text/plain": [
       "position: \n",
       "  x: -0.027586881213\n",
       "  y: 3.11401899177\n",
       "  z: 0.0\n",
       "orientation: \n",
       "  x: 0.0\n",
       "  y: 0.0\n",
       "  z: -0.795833476712\n",
       "  w: 0.60551554674"
      ]
     },
     "execution_count": 12,
     "metadata": {},
     "output_type": "execute_result"
    }
   ],
   "source": [
    "current_pose"
   ]
  },
  {
   "cell_type": "code",
   "execution_count": 6,
   "metadata": {},
   "outputs": [],
   "source": [
    "import tf\n",
    "import math\n",
    "import numpy as np\n",
    "from geometry_msgs.msg import Quaternion\n",
    "\n",
    "# function that converts from Quaternion to Euler\n",
    "convert_to_nparray = lambda o: np.array([o.x, o.y, o.z, o.w])\n",
    "def convert_to_euler(pose):\n",
    "    tmp = convert_to_nparray(pose.orientation)\n",
    "    tmp = tf.transformations.euler_from_quaternion(tmp)\n",
    "    return tmp\n",
    "\n",
    "# function that converts from Euler to Quaternion\n",
    "convert_to_rad = lambda o: np.array(o)*math.pi/180.\n",
    "def convert_to_quaternion(euler):\n",
    "    p, q, r = convert_to_rad(euler)\n",
    "    tmp = tf.transformations.quaternion_from_euler(p, q, r)\n",
    "    return Quaternion(*tmp)"
   ]
  },
  {
   "cell_type": "code",
   "execution_count": 7,
   "metadata": {},
   "outputs": [
    {
     "name": "stdout",
     "output_type": "stream",
     "text": [
      "[0.0, -0.0, 0.0007485988430896371]\n",
      "===============================\n",
      "x: 0.0\n",
      "y: 0.0\n",
      "z: 6.53275729422e-06\n",
      "w: 0.999999999979\n"
     ]
    }
   ],
   "source": [
    "goal_pose = list(convert_to_euler(current_pose))\n",
    "print(goal_pose)\n",
    "print('===============================')\n",
    "print(convert_to_quaternion(goal_pose))"
   ]
  },
  {
   "cell_type": "markdown",
   "metadata": {},
   "source": [
    "p, q, r = convert_to_euler(current_pose)\n",
    "target_r = 45    # this is user input (orientation)\n",
    "\n",
    "goal.target_pose.pose.orientation = convert_to_quaternion([0, 0, target_r])\n",
    "goal.target_pose.pose.position = current_pose.position\n",
    "goal.target_pose.header.stamp = rospy.Time.now()\n",
    "goal"
   ]
  },
  {
   "cell_type": "code",
   "execution_count": 8,
   "metadata": {},
   "outputs": [],
   "source": [
    "goal.target_pose.pose.position.x = current_pose.position.x \n",
    "goal.target_pose.pose.position.y = current_pose.position.y - 0.20\n",
    "\n",
    "quat = convert_to_quaternion([0,0,0])\n",
    "goal.target_pose.pose.orientation = quat\n",
    "goal.target_pose.header.stamp = rospy.Time.now()\n",
    "ac.send_goal(goal)"
   ]
  },
  {
   "cell_type": "code",
   "execution_count": null,
   "metadata": {},
   "outputs": [],
   "source": []
  }
 ],
 "metadata": {
  "kernelspec": {
   "display_name": "Python 2",
   "language": "python",
   "name": "python2"
  },
  "language_info": {
   "codemirror_mode": {
    "name": "ipython",
    "version": 2
   },
   "file_extension": ".py",
   "mimetype": "text/x-python",
   "name": "python",
   "nbconvert_exporter": "python",
   "pygments_lexer": "ipython2",
   "version": "2.7.17"
  }
 },
 "nbformat": 4,
 "nbformat_minor": 2
}
