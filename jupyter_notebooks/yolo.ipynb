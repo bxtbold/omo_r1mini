{
 "cells": [
  {
   "cell_type": "code",
   "execution_count": 1,
   "metadata": {},
   "outputs": [],
   "source": [
    "import rospy\n",
    "from std_msgs.msg import Float32, Int32\n",
    "from darknet_ros_msgs.msg import BoundingBoxes\n",
    "import time\n",
    "\n",
    "processing_yolo = False\n",
    "detection_result = []\n",
    "\n",
    "# a function that gets data => detection_result\n",
    "def callback_yolo(msg):\n",
    "    global processing_yolo, detection_result\n",
    "    if not processing_yolo:\n",
    "        processing_yolo = True\n",
    "        \n",
    "        if len(msg.bounding_boxes) > 0:\n",
    "            detection_result = msg.bounding_boxes\n",
    "        else:\n",
    "            detection_result = []\n",
    "            \n",
    "\n",
    "# subscribing topic '/darknet_ros/bounding_boxes'\n",
    "sub_yolo = rospy.Subscriber('/darknet_ros/bounding_boxes', BoundingBoxes, callback_yolo)\n",
    "# initializing a node\n",
    "rospy.init_node('gen_command', anonymous = False)\n",
    "\n",
    "\n",
    "def person_check():\n",
    "    global detection_result\n",
    "    for each in detection_result:\n",
    "        if (each.id == 39) or (each.id == 75):   # 0 for person\n",
    "            size = (each.xmax - each.xmin) * (each.ymax - each.ymin)\n",
    "            if size > 20000:\n",
    "                return 'close'  # close\n",
    "            else:\n",
    "                return 'not close'  # far"
   ]
  },
  {
   "cell_type": "code",
   "execution_count": 2,
   "metadata": {},
   "outputs": [
    {
     "ename": "KeyboardInterrupt",
     "evalue": "",
     "output_type": "error",
     "traceback": [
      "\u001b[0;31m---------------------------------------------------------------------------\u001b[0m",
      "\u001b[0;31mKeyboardInterrupt\u001b[0m                         Traceback (most recent call last)",
      "\u001b[0;32m<ipython-input-2-24ec7eb74e45>\u001b[0m in \u001b[0;36m<module>\u001b[0;34m()\u001b[0m\n\u001b[1;32m      6\u001b[0m         \u001b[0;32mbreak\u001b[0m\u001b[0;34m\u001b[0m\u001b[0m\n\u001b[1;32m      7\u001b[0m \u001b[0;34m\u001b[0m\u001b[0m\n\u001b[0;32m----> 8\u001b[0;31m     \u001b[0mtime\u001b[0m\u001b[0;34m.\u001b[0m\u001b[0msleep\u001b[0m\u001b[0;34m(\u001b[0m\u001b[0;36m0.3\u001b[0m\u001b[0;34m)\u001b[0m\u001b[0;34m\u001b[0m\u001b[0m\n\u001b[0m\u001b[1;32m      9\u001b[0m \u001b[0;32mprint\u001b[0m\u001b[0;34m(\u001b[0m\u001b[0;34m'------------------------------'\u001b[0m\u001b[0;34m)\u001b[0m\u001b[0;34m\u001b[0m\u001b[0m\n",
      "\u001b[0;31mKeyboardInterrupt\u001b[0m: "
     ]
    }
   ],
   "source": [
    "while True:\n",
    "    processing_yolo = False\n",
    "    if person_check() == 'close':\n",
    "        print '==============DONE=============='\n",
    "        time.sleep(5)\n",
    "        break\n",
    "\n",
    "    time.sleep(0.3)\n",
    "print('------------------------------')"
   ]
  },
  {
   "cell_type": "code",
   "execution_count": null,
   "metadata": {},
   "outputs": [],
   "source": []
  }
 ],
 "metadata": {
  "kernelspec": {
   "display_name": "Python 2",
   "language": "python",
   "name": "python2"
  },
  "language_info": {
   "codemirror_mode": {
    "name": "ipython",
    "version": 2
   },
   "file_extension": ".py",
   "mimetype": "text/x-python",
   "name": "python",
   "nbconvert_exporter": "python",
   "pygments_lexer": "ipython2",
   "version": "2.7.17"
  }
 },
 "nbformat": 4,
 "nbformat_minor": 2
}
